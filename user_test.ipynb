{
 "cells": [
  {
   "attachments": {},
   "cell_type": "markdown",
   "metadata": {},
   "source": [
    "# Ray Train User Testing\n",
    "\n",
    "In this notebook, you will learn how to use Ray Train for distributed model training. Eventually, you will scale up your existing training workload from single node to multiple GPU nodes.\n",
    "\n",
    "- Task 1: Run training with 1 CPU worker\n",
    "- Task 2: Run training with 1 GPU worker\n",
    "- Task 3: Run distributed training with 4 GPU workers\n",
    "\n",
    "You can refer to the Ray Documentation for user guides and APIs: https://docs.ray.io/en/master/index.html\n"
   ]
  },
  {
   "attachments": {},
   "cell_type": "markdown",
   "metadata": {},
   "source": [
    "## Task 0: Inspect your data\n",
    "\n",
    "In this section, you will calculate some basic statistics of your data. We have already provided the data loading code below. Please fill in the blanks in the table below the code block.\n"
   ]
  },
  {
   "cell_type": "code",
   "execution_count": null,
   "metadata": {},
   "outputs": [],
   "source": [
    "import os\n",
    "import wandb\n",
    "import mlflow\n",
    "import torch\n",
    "import torch.nn.functional as F\n",
    "from datasets import load_dataset\n",
    "from functools import partial\n",
    "from torch.utils.data import DataLoader\n",
    "from transformers import AutoTokenizer, AutoModelForSequenceClassification\n",
    "from tqdm import tqdm\n",
    "\n",
    "\n",
    "# Data Preprocessing\n",
    "def preprocess(batch, tokenizer):\n",
    "    sentences = [case[\"text\"] for case in batch]\n",
    "    labels = torch.LongTensor([case[\"label\"] for case in batch])\n",
    "\n",
    "    encoded_sent = tokenizer(\n",
    "        sentences,\n",
    "        max_length=256,\n",
    "        truncation=True,\n",
    "        padding=\"max_length\",\n",
    "        return_tensors=\"pt\",\n",
    "    )\n",
    "\n",
    "    out = {}\n",
    "    out[\"input_ids\"] = encoded_sent[\"input_ids\"]\n",
    "    out[\"attention_mask\"] = encoded_sent[\"attention_mask\"]\n",
    "    out[\"label\"] = labels\n",
    "    return out\n",
    "\n",
    "\n",
    "BATCH_SIZE = 32\n",
    "\n",
    "hf_ds = load_dataset(\"tweet_eval\", \"irony\", keep_in_memory=True)\n",
    "tokenizer = AutoTokenizer.from_pretrained(\"bert-base-cased\")\n",
    "collate_fn = partial(preprocess, tokenizer=tokenizer)\n",
    "\n",
    "train_ds = hf_ds[\"train\"]\n",
    "val_ds = hf_ds[\"test\"]\n",
    "train_dataloader = DataLoader(train_ds, batch_size=BATCH_SIZE, collate_fn=collate_fn)\n",
    "val_dataloader = DataLoader(val_ds, batch_size=BATCH_SIZE, collate_fn=collate_fn)"
   ]
  },
  {
   "cell_type": "code",
   "execution_count": null,
   "metadata": {},
   "outputs": [],
   "source": [
    "# Your Code here:\n",
    "\n"
   ]
  },
  {
   "attachments": {},
   "cell_type": "markdown",
   "metadata": {},
   "source": [
    "Please fill in the blanks below:\n",
    "\n",
    "|                     |                      |\n",
    "|---------------------|----------------------|\n",
    "| Total train samples | ___x___ (samples)    |\n",
    "| Total train batches | ___x___ (batches)    |\n",
    "| Total eval samples  | ___x___ (samples)    |\n",
    "| Total eval batches  | ___x___ (batches)    |"
   ]
  },
  {
   "attachments": {},
   "cell_type": "markdown",
   "metadata": {},
   "source": [
    "## Task 1: Train with one CPU worker\n",
    "\n",
    "In this section, we'll first convert your code to Ray Train, and test the correctness of your code with 1 CPU worker.\n",
    "\n",
    "Success Criteria for this section:\n",
    "- Specify correct configurations for Ray Train\n",
    "- Successfully run one training epoch and one evaluation epoch\n",
    "- Successfully save a checkpoint and report it to Ray Train\n"
   ]
  },
  {
   "cell_type": "code",
   "execution_count": null,
   "metadata": {},
   "outputs": [],
   "source": [
    "# Estimated Difficulty Level (1-7) [1=very easy 7=very difficult]:"
   ]
  },
  {
   "cell_type": "code",
   "execution_count": null,
   "metadata": {},
   "outputs": [],
   "source": [
    "# Your code here\n",
    "\n",
    "\n",
    "\n",
    "\n"
   ]
  },
  {
   "attachments": {},
   "cell_type": "markdown",
   "metadata": {},
   "source": [
    "Please fill in the blanks below:\n",
    "\n",
    "> Hint: You can find relevant information from the progress bar.\n",
    "\n",
    "|                         |                       |\n",
    "|-------------------------|-----------------------|\n",
    "| Num iterations per epoch| ___x___ (iters/epoch) |\n",
    "| Training speed          | ___x___ (s/iter)     |"
   ]
  },
  {
   "cell_type": "code",
   "execution_count": null,
   "metadata": {},
   "outputs": [],
   "source": [
    "# Actaul Difficulty Level (1-7) [1=very easy 7=very difficult]:"
   ]
  },
  {
   "attachments": {},
   "cell_type": "markdown",
   "metadata": {},
   "source": [
    "## Task 2: Train with one GPU worker\n",
    "\n",
    "Next let's modify your code to train on 1 GPU.\n"
   ]
  },
  {
   "cell_type": "code",
   "execution_count": null,
   "metadata": {},
   "outputs": [],
   "source": [
    "# Estimated Difficulty Level (1-7) [1=very easy 7=very difficult]:"
   ]
  },
  {
   "cell_type": "code",
   "execution_count": null,
   "metadata": {},
   "outputs": [],
   "source": [
    "# Your code here\n",
    "\n",
    "\n",
    "\n",
    "\n",
    "\n"
   ]
  },
  {
   "attachments": {},
   "cell_type": "markdown",
   "metadata": {},
   "source": [
    "Please fill in the blanks below:\n",
    "\n",
    "|                         |                      |\n",
    "|-------------------------|----------------------|\n",
    "| Num iterations per epoch| ___x___ (iters/epoch) |\n",
    "| Training speed          | ___x___ (s/iter)     |"
   ]
  },
  {
   "cell_type": "code",
   "execution_count": null,
   "metadata": {},
   "outputs": [],
   "source": [
    "# Actaul Difficulty Level (1-7) [1=very easy 7=very difficult]:"
   ]
  },
  {
   "attachments": {},
   "cell_type": "markdown",
   "metadata": {},
   "source": [
    "## Task 3: Distributed Training with Multi-node and Multi-GPUs\n",
    "\n",
    "Let's next scale up your training to 4 GPUs. You may use Ray Dashboard to check GPU utilization, training status, and other system metrics."
   ]
  },
  {
   "cell_type": "code",
   "execution_count": null,
   "metadata": {},
   "outputs": [],
   "source": [
    "# Estimated Difficulty Level (1-7) [1=very easy 7=very difficult]:"
   ]
  },
  {
   "cell_type": "code",
   "execution_count": null,
   "metadata": {},
   "outputs": [],
   "source": [
    "# Your code here\n",
    "\n",
    "\n",
    "\n",
    "\n",
    "\n"
   ]
  },
  {
   "attachments": {},
   "cell_type": "markdown",
   "metadata": {},
   "source": [
    "Please fill in the blanks below:\n",
    "\n",
    "|                         |                      |\n",
    "|-------------------------|----------------------|\n",
    "| Num iterations per epoch| ___x___ (iters/epoch) |\n",
    "| Training speed          | ___x___ (iters/s)     |\n",
    "| Checkpoint path         | ___x___               |"
   ]
  },
  {
   "cell_type": "code",
   "execution_count": null,
   "metadata": {},
   "outputs": [],
   "source": [
    "# Actaul Difficulty Level (1-7) [1=very easy 7=very difficult]:"
   ]
  }
 ],
 "metadata": {
  "kernelspec": {
   "display_name": "Python 3",
   "language": "python",
   "name": "python3"
  },
  "language_info": {
   "name": "python",
   "version": "3.11.1"
  },
  "orig_nbformat": 4
 },
 "nbformat": 4,
 "nbformat_minor": 2
}
